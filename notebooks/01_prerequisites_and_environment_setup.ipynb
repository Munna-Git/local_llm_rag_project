{
 "cells": [
  {
   "cell_type": "code",
   "execution_count": 2,
   "id": "85c3a1d3",
   "metadata": {},
   "outputs": [
    {
     "name": "stdout",
     "output_type": "stream",
     "text": [
      "{\n",
      "  \"python_version\": \"3.12.10\",\n",
      "  \"ok\": true\n",
      "}\n",
      "Python version is sufficient\n"
     ]
    }
   ],
   "source": [
    "import sys, json\n",
    "py_ok = sys.version_info >= (3,11)\n",
    "print(json.dumps({\n",
    "    \"python_version\": sys.version.split()[0],\n",
    "    \"ok\": py_ok\n",
    "}, indent=2))\n",
    "assert py_ok, \"Python <3.11 — install a newer version before continuing\"\n",
    "print(\"Python version is sufficient\")"
   ]
  },
  {
   "cell_type": "code",
   "execution_count": 3,
   "id": "383076ed",
   "metadata": {},
   "outputs": [
    {
     "name": "stdout",
     "output_type": "stream",
     "text": [
      "{\n",
      "  \"docker_cmd\": \"C:\\\\Program Files\\\\Docker\\\\Docker\\\\resources\\\\bin\\\\docker.EXE\",\n",
      "  \"version\": \"Docker version 28.3.2, build 578ccf6\"\n",
      "}\n",
      "✅ Docker CLI found\n"
     ]
    }
   ],
   "source": [
    "import subprocess, shutil, json\n",
    "docker_path = shutil.which(\"docker\")\n",
    "if not docker_path:\n",
    "    raise RuntimeError(\"🚨 'docker' command not found. Finish Docker install & restart terminal.\")\n",
    "ver = subprocess.check_output([\"docker\", \"--version\"], text=True)\n",
    "print(json.dumps({\"docker_cmd\": docker_path, \"version\": ver.strip()}, indent=2))\n",
    "print(\"✅ Docker CLI found\")"
   ]
  },
  {
   "cell_type": "code",
   "execution_count": 17,
   "id": "76f3143e",
   "metadata": {},
   "outputs": [
    {
     "name": "stdout",
     "output_type": "stream",
     "text": [
      "--- Page 1 ---\n",
      "SANCHIA CELIA PINTO\n",
      "\n",
      "Mobile: +91 8722253295 Email: Sanchipinto@gmail.com Location: Mangalore, Karnataka\n",
      "Objective:\n",
      "\n",
      "Results-driven professional with over 3 years of experience in data processing and sales. A solution-\n",
      "oriented approach to drive business growth and operational excellence. Seeking a challenging role to\n",
      "contribute to organizational success through a blend of technical expertise, sales acumen, and\n",
      "commitment to continuous improvement.\n",
      "\n",
      "Education:\n",
      "Bachelors of Commerce 2017-2020\n",
      "St Agnes College (Business Mangalore)\n",
      "\n",
      "Pre-University Education (Business, Statistics, Basic Maths, Accounts) 2015-2017\n",
      "St Agnes Pre-University College, Mangalore\n",
      "\n",
      "Sales Supervisor - March 2021 - July 2021\n",
      "\n",
      "e Developed and implemented sales strategies to improve customer acquisition and retention.\n",
      "\n",
      "e Resolved customer complaints and escalations effectively to maintain satisfaction and loyalty.\n",
      "\n",
      "e Prepared detailed sales reports and presented performance insights to senior management\n",
      "for strategic planning.\n",
      "\n",
      "e Handling more than 40 prospective customers per day-face to face, video calls and through\n",
      "email.\n",
      "\n",
      "e Researching complicated cases to provide comprehensive services to customers.\n",
      "\n",
      "e Assisting clients with all their doubts and queries.\n",
      "\n",
      "e Guided interns to manage a smooth workflow.\n",
      "\n",
      "Cognizant - -Process Executive (Data) - July 2021-August 2023\n",
      "\n",
      "Worked as a process executive and commercial data loading executive.\n",
      "\n",
      "e Maintained positive relationship with client handled daily emails and worked on database\n",
      "update as per SOP.\n",
      "\n",
      "e Managed client files and ensured accuracy via validation and check as per required standards.\n",
      "\n",
      "e Worked as a customer product support executive to be typed in cognizant right.\n",
      "\n",
      "e Provide exceptional support for our applications and associated services.,\n",
      "\n",
      "e Chat, and respond to emails to troubleshoot issues customers face when using our products,\n",
      "including account access, setting up templates, sending documents, billing, etc.\n",
      "\n",
      "Yes Bank -Senior Officer and NRI Relationship Officer - June 2024- May 2025\n",
      "\n",
      "e Built and managed relationships with Non-Resident Indian (NRI) clients, ensuring their banking\n",
      "needs were met with personalized solutions.\n",
      "\n",
      "e Provided tailored assistance with account openings, financial queries, and cross- border\n",
      "transaction services.\n",
      "\n",
      "e Delivered door-to-door service to enhance customer convenience and accessibility to banking\n",
      "solutions.\n",
      "\n",
      "e Educated customers about account features, digital banking tools, and investment\n",
      "opportunities to promote financial literacy.\n",
      "\n",
      "Karawan travels and tourism - Office Administrator - May 2025 — July 2025\n",
      "\n",
      "\n",
      "--- Page 2 ---\n",
      "e Managed ticket booking operations, ensuring accuracy, timely delivery, and customer\n",
      "satisfaction.\n",
      "\n",
      "e Engaged with clients via phone, email, and in-person to address inquiries and provide tailored\n",
      "travel solutions.\n",
      "\n",
      "e Assisted customers with queries related to visas, hotel reservations, and itinerary planning.\n",
      "\n",
      "¢ Oversaw and updated company social media channels, contributing creative ideas to enhance\n",
      "engagement and brand visibility.\n",
      "\n",
      "e Maintained a positive customer experience by resolving issues promptly and professionally.\n",
      "\n",
      "Certifications:\n",
      "¢ Diploma in computers Application with Tally Matha Education, Mangalore\n",
      "\n",
      "Skills:\n",
      "¢ Personal skills: Able to work in team and independently, clearly communicate, flexibility,\n",
      "leadership, time management, handling a team of 4 sales executive.\n",
      "e Research skills: Carry out qualitative analysis, conduct interview, construct surveys and\n",
      "questionnaires.\n",
      "\n",
      "¢ Customer Relationship Management (CRM): Building and maintaining strong relationships\n",
      "\n",
      "with customers by understanding their needs, providing personalized support, and ensuring\n",
      "their satisfaction to foster loyalty and long-term engagement.\n",
      "\n",
      "¢ Software skills: Adept at using Microsoft Office (Excel, Word, PowerPoint)\n",
      "\n",
      "e Language skills: Fluent in English, Hindi, Kannada, Konkani, Beary. Beginner level in Korean,\n",
      "Spanish and Thai.\n",
      "\n"
     ]
    }
   ],
   "source": [
    "from pdf2image import convert_from_path\n",
    "import pytesseract\n",
    "\n",
    "# PDF and Poppler paths\n",
    "pdf_path = r\"C:\\Users\\MUNNA\\Downloads\\resume_Sanchia.pdf\"\n",
    "poppler_path = r\"C:\\Users\\MUNNA\\Downloads\\Release-25.07.0-0\\poppler-25.07.0\\Library\\bin\"\n",
    "\n",
    "# Point pytesseract to the executable\n",
    "pytesseract.pytesseract.tesseract_cmd = r\"C:\\Program Files\\Tesseract-OCR\\tesseract.exe\"\n",
    "\n",
    "# Convert PDF to images\n",
    "pages = convert_from_path(pdf_path, poppler_path=poppler_path)\n",
    "\n",
    "# Extract text\n",
    "for i, page in enumerate(pages):\n",
    "    text = pytesseract.image_to_string(page)\n",
    "    print(f\"--- Page {i+1} ---\")\n",
    "    print(text)\n"
   ]
  },
  {
   "cell_type": "code",
   "execution_count": null,
   "id": "0d238f22",
   "metadata": {},
   "outputs": [
    {
     "name": "stdout",
     "output_type": "stream",
     "text": [
      "Packages installed correctly!\n"
     ]
    }
   ],
   "source": [
    "from pdf2image import convert_from_path\n",
    "\n",
    "\n",
    "print(\"Packages installed correctly!\")\n"
   ]
  },
  {
   "cell_type": "code",
   "execution_count": null,
   "id": "b0bc8bbd",
   "metadata": {},
   "outputs": [
    {
     "name": "stdout",
     "output_type": "stream",
     "text": [
      "False\n"
     ]
    }
   ],
   "source": [
    "import os\n",
    "pdf_path = r\"C:\\Users\\MUNNA\\Downloads\\resume_Sanchia.pdf\"\n",
    "print(os.path.exists(pdf_path))  # Should print True\n"
   ]
  },
  {
   "cell_type": "code",
   "execution_count": null,
   "id": "8e4da4c9",
   "metadata": {},
   "outputs": [],
   "source": []
  }
 ],
 "metadata": {
  "kernelspec": {
   "display_name": "venv",
   "language": "python",
   "name": "python3"
  },
  "language_info": {
   "codemirror_mode": {
    "name": "ipython",
    "version": 3
   },
   "file_extension": ".py",
   "mimetype": "text/x-python",
   "name": "python",
   "nbconvert_exporter": "python",
   "pygments_lexer": "ipython3",
   "version": "3.12.10"
  }
 },
 "nbformat": 4,
 "nbformat_minor": 5
}
