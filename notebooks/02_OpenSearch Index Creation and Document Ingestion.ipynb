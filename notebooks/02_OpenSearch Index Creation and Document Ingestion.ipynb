{
 "cells": [
  {
   "cell_type": "code",
   "execution_count": 1,
   "id": "8e041cee",
   "metadata": {},
   "outputs": [
    {
     "name": "stderr",
     "output_type": "stream",
     "text": [
      "d:\\local_rag\\venv\\Lib\\site-packages\\sentence_transformers\\cross_encoder\\CrossEncoder.py:13: TqdmWarning: IProgress not found. Please update jupyter and ipywidgets. See https://ipywidgets.readthedocs.io/en/stable/user_install.html\n",
      "  from tqdm.autonotebook import tqdm, trange\n"
     ]
    }
   ],
   "source": [
    "# Import necessary libraries\n",
    "import json\n",
    "import os\n",
    "import re\n",
    "import sys\n",
    "from typing import Dict, Any, List\n",
    "\n",
    "from PyPDF2 import PdfReader\n",
    "from opensearchpy import OpenSearch, helpers\n",
    "from sentence_transformers import SentenceTransformer"
   ]
  },
  {
   "cell_type": "code",
   "execution_count": 2,
   "id": "d40b1ea0",
   "metadata": {},
   "outputs": [],
   "source": [
    "# Set up Python path to access project modules\n",
    "sys.path.insert(0, \"..\")\n",
    "\n",
    "%load_ext autoreload\n",
    "%autoreload 2"
   ]
  },
  {
   "cell_type": "code",
   "execution_count": null,
   "id": "12083173",
   "metadata": {},
   "outputs": [
    {
     "name": "stdout",
     "output_type": "stream",
     "text": [
      "Constants defined\n"
     ]
    }
   ],
   "source": [
    "# Defining constants\n",
    "\n",
    "# Opensearch connection settings\n",
    "OPENSEARCH_HOST = \"localhost\"       # OpenSearch host\n",
    "OPENSEARCH_PORT = 9200              # OpenSearch port\n",
    "OPENSEARCH_INDEX = \"documents\"      # Index name for document storage\n",
    "\n",
    "# Embeddings settings\n",
    "EMBEDDING_MODEL_NAME = \"sentence-transformers/all-MiniLM-L6-v2\"     # Model for generating embedding\"\n",
    "EMBEDDING_DIMENSION = 384                                           # Embedding dimension for the model\n",
    "ASSYMETRIC_EMBEDDING = False                                        # Whether to use asymmetric embeddings\n",
    "\n",
    "# Chunking settings\n",
    "TEXT_CHUNK_SIZE = 500           # Number of tokens per chunk\n",
    "TEXT_CHUNK_OVERLAP = 100        # Overlap between chunks\n",
    "\n",
    "print(\"Constants defined\")"
   ]
  },
  {
   "cell_type": "code",
   "execution_count": 4,
   "id": "1a285b49",
   "metadata": {},
   "outputs": [
    {
     "name": "stdout",
     "output_type": "stream",
     "text": [
      "Utility functions defined\n"
     ]
    }
   ],
   "source": [
    "# Utility functions for text preprocessing\n",
    "\n",
    "def clean_text(text: str) -> str:\n",
    "    \"\"\"\n",
    "    Cleans OCR-extracted text by removing unnecessary newlines, hyphens, and correcting common OCR errors.\n",
    "\n",
    "    Args:\n",
    "        text (str): The text to clean.\n",
    "\n",
    "    Returns:\n",
    "        str: The cleaned text.\n",
    "    \"\"\"\n",
    "    # Remove hyphens at line breaks (e.g., 'exam-\\nple' -> 'example')\n",
    "    text = re.sub(r\"(\\w+)-\\n(\\w+)\", r\"\\1\\2\", text)\n",
    "\n",
    "    # Replace newlines within sentences with spaces\n",
    "    text = re.sub(r\"(?<!\\n)\\n(?!\\n)\", \" \", text)\n",
    "\n",
    "    # Replace multiple newlines with a single newline\n",
    "    text = re.sub(r\"\\n+\", \"\\n\", text)\n",
    "\n",
    "    # Remove excessive whitespace\n",
    "    text = re.sub(r\"[ \\t]+\", \" \", text)\n",
    "\n",
    "    return text.strip()\n",
    "\n",
    "\n",
    "def chunk_text(text: str, chunk_size: int, overlap: int = 100) -> List[str]:\n",
    "    \"\"\"\n",
    "    Splits text into chunks with a specified overlap.\n",
    "\n",
    "    Args:\n",
    "        text (str): The text to split.\n",
    "        chunk_size (int): The number of tokens in each chunk.\n",
    "        overlap (int): The number of tokens to overlap between chunks.\n",
    "\n",
    "    Returns:\n",
    "        List[str]: A list of text chunks.\n",
    "    \"\"\"\n",
    "\n",
    "    # Clean the text before chunking\n",
    "    text = clean_text(text)\n",
    "\n",
    "    # Tokeinze the texts into words\n",
    "    tokens = text.split(\" \")\n",
    "\n",
    "    chunks = []\n",
    "    start = 0\n",
    "    while start < len(tokens):\n",
    "        end = start + chunk_size\n",
    "        chunk_tokens = tokens[start:end]\n",
    "        chunk_text = \" \".join(chunk_tokens)\n",
    "        chunks.append(chunk_text)\n",
    "        start = end - overlap  # Move back by 'overlap' tokens\n",
    "\n",
    "    return chunks\n",
    "\n",
    "print(\"Utility functions defined\")"
   ]
  },
  {
   "cell_type": "code",
   "execution_count": 5,
   "id": "d08f1fbe",
   "metadata": {},
   "outputs": [
    {
     "name": "stdout",
     "output_type": "stream",
     "text": [
      "Embedding functions defined\n"
     ]
    }
   ],
   "source": [
    "# Embedding functions\n",
    "\n",
    "def get_embedding_model():\n",
    "    \"\"\"\n",
    "    Loads and returns the sentence transformer embedding model.\n",
    "    \n",
    "    Returns:\n",
    "        SentenceTransformer: The loaded embedding model.\n",
    "    \"\"\"\n",
    "    print(f\"Loading embedding model: {EMBEDDING_MODEL_NAME}\")\n",
    "    model = SentenceTransformer(EMBEDDING_MODEL_NAME)\n",
    "    return model\n",
    "\n",
    "\n",
    "\n",
    "def generate_embeddings(texts: List[str]):\n",
    "    \"\"\"\n",
    "    Generates embeddings for a list of text chunks.\n",
    "    \n",
    "    Args:\n",
    "        texts (List[str]): List of text chunks to embed.\n",
    "        \n",
    "    Returns:\n",
    "        List[numpy.ndarray]: List of embedding vectors.\n",
    "    \"\"\"\n",
    "    model = get_embedding_model()\n",
    "    \n",
    "    # If using asymmetric embeddings, prefix each text with \"passage: \"\n",
    "    if ASSYMETRIC_EMBEDDING:\n",
    "        texts = [f\"passage: {text}\" for text in texts]\n",
    "        \n",
    "    # Generate embeddings\n",
    "    embeddings = model.encode(texts)\n",
    "    return embeddings\n",
    "\n",
    "print(\"Embedding functions defined\")\n"
   ]
  },
  {
   "cell_type": "markdown",
   "id": "932d2b36",
   "metadata": {},
   "source": [
    "# 1. Connect to OpenSearch and Create Index"
   ]
  },
  {
   "cell_type": "code",
   "execution_count": null,
   "id": "18a13687",
   "metadata": {},
   "outputs": [],
   "source": []
  },
  {
   "cell_type": "markdown",
   "id": "bc58a781",
   "metadata": {},
   "source": []
  },
  {
   "cell_type": "code",
   "execution_count": null,
   "id": "7b6f6bce",
   "metadata": {},
   "outputs": [],
   "source": []
  }
 ],
 "metadata": {
  "kernelspec": {
   "display_name": "venv",
   "language": "python",
   "name": "python3"
  },
  "language_info": {
   "codemirror_mode": {
    "name": "ipython",
    "version": 3
   },
   "file_extension": ".py",
   "mimetype": "text/x-python",
   "name": "python",
   "nbconvert_exporter": "python",
   "pygments_lexer": "ipython3",
   "version": "3.12.10"
  }
 },
 "nbformat": 4,
 "nbformat_minor": 5
}
